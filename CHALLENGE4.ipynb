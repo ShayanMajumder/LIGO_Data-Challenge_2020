{
  "nbformat": 4,
  "nbformat_minor": 0,
  "metadata": {
    "colab": {
      "name": "task4.ipynb",
      "provenance": [],
      "collapsed_sections": []
    },
    "kernelspec": {
      "name": "python3",
      "display_name": "Python 3"
    }
  },
  "cells": [
    {
      "cell_type": "code",
      "metadata": {
        "id": "do1SPLok3HCP",
        "colab_type": "code",
        "colab": {}
      },
      "source": [
        "!pip install -q 'gwpy==1.0.1'"
      ],
      "execution_count": 0,
      "outputs": []
    },
    {
      "cell_type": "code",
      "metadata": {
        "id": "osNrqsDn3gzy",
        "colab_type": "code",
        "outputId": "0287fd00-b73c-490b-aca8-3d8ca22d940b",
        "colab": {
          "base_uri": "https://localhost:8080/",
          "height": 604
        }
      },
      "source": [
        "import sys\n",
        "!{sys.executable} -m pip install pycbc lalsuite ligo-common --no-cache-dir"
      ],
      "execution_count": 0,
      "outputs": [
        {
          "output_type": "stream",
          "text": [
            "Requirement already satisfied: pycbc in /usr/local/lib/python3.6/dist-packages (1.16.1)\n",
            "Requirement already satisfied: lalsuite in /usr/local/lib/python3.6/dist-packages (6.70)\n",
            "Requirement already satisfied: ligo-common in /usr/local/lib/python3.6/dist-packages (1.0.3)\n",
            "Requirement already satisfied: jinja2 in /usr/local/lib/python3.6/dist-packages (from pycbc) (2.11.2)\n",
            "Requirement already satisfied: six>=1.10.0 in /usr/local/lib/python3.6/dist-packages (from pycbc) (1.12.0)\n",
            "Requirement already satisfied: cython>=0.29 in /usr/local/lib/python3.6/dist-packages (from pycbc) (0.29.18)\n",
            "Requirement already satisfied: requests>=1.2.1 in /usr/local/lib/python3.6/dist-packages (from pycbc) (2.23.0)\n",
            "Requirement already satisfied: lscsoft-glue>=1.59.3 in /usr/local/lib/python3.6/dist-packages (from pycbc) (2.0.0)\n",
            "Requirement already satisfied: emcee==2.2.1 in /usr/local/lib/python3.6/dist-packages (from pycbc) (2.2.1)\n",
            "Requirement already satisfied: gwdatafind in /usr/local/lib/python3.6/dist-packages (from pycbc) (1.0.4)\n",
            "Requirement already satisfied: matplotlib>=1.5.1 in /usr/local/lib/python3.6/dist-packages (from pycbc) (3.2.1)\n",
            "Requirement already satisfied: tqdm in /usr/local/lib/python3.6/dist-packages (from pycbc) (4.41.1)\n",
            "Requirement already satisfied: h5py>=2.5 in /usr/local/lib/python3.6/dist-packages (from pycbc) (2.10.0)\n",
            "Requirement already satisfied: numpy>=1.16.0; python_version >= \"3.5\" in /usr/local/lib/python3.6/dist-packages (from pycbc) (1.18.4)\n",
            "Requirement already satisfied: pillow in /usr/local/lib/python3.6/dist-packages (from pycbc) (7.0.0)\n",
            "Requirement already satisfied: mpld3>=0.3 in /usr/local/lib/python3.6/dist-packages (from pycbc) (0.3)\n",
            "Requirement already satisfied: decorator>=3.4.2 in /usr/local/lib/python3.6/dist-packages (from pycbc) (4.4.2)\n",
            "Requirement already satisfied: astropy>=2.0.3; python_version > \"3.0\" in /usr/local/lib/python3.6/dist-packages (from pycbc) (4.0.1.post1)\n",
            "Requirement already satisfied: scipy>=0.16.0; python_version >= \"3.5\" in /usr/local/lib/python3.6/dist-packages (from pycbc) (1.4.1)\n",
            "Requirement already satisfied: ligo-segments in /usr/local/lib/python3.6/dist-packages (from pycbc) (1.2.0)\n",
            "Requirement already satisfied: Mako>=1.0.1 in /usr/local/lib/python3.6/dist-packages (from pycbc) (1.1.2)\n",
            "Requirement already satisfied: beautifulsoup4>=4.6.0 in /usr/local/lib/python3.6/dist-packages (from pycbc) (4.6.3)\n",
            "Requirement already satisfied: python-dateutil in /usr/local/lib/python3.6/dist-packages (from lalsuite) (2.8.1)\n",
            "Requirement already satisfied: MarkupSafe>=0.23 in /usr/local/lib/python3.6/dist-packages (from jinja2->pycbc) (1.1.1)\n",
            "Requirement already satisfied: urllib3!=1.25.0,!=1.25.1,<1.26,>=1.21.1 in /usr/local/lib/python3.6/dist-packages (from requests>=1.2.1->pycbc) (1.24.3)\n",
            "Requirement already satisfied: chardet<4,>=3.0.2 in /usr/local/lib/python3.6/dist-packages (from requests>=1.2.1->pycbc) (3.0.4)\n",
            "Requirement already satisfied: certifi>=2017.4.17 in /usr/local/lib/python3.6/dist-packages (from requests>=1.2.1->pycbc) (2020.4.5.1)\n",
            "Requirement already satisfied: idna<3,>=2.5 in /usr/local/lib/python3.6/dist-packages (from requests>=1.2.1->pycbc) (2.9)\n",
            "Requirement already satisfied: pyOpenSSL in /usr/local/lib/python3.6/dist-packages (from lscsoft-glue>=1.59.3->pycbc) (19.1.0)\n",
            "Requirement already satisfied: cycler>=0.10 in /usr/local/lib/python3.6/dist-packages (from matplotlib>=1.5.1->pycbc) (0.10.0)\n",
            "Requirement already satisfied: pyparsing!=2.0.4,!=2.1.2,!=2.1.6,>=2.0.1 in /usr/local/lib/python3.6/dist-packages (from matplotlib>=1.5.1->pycbc) (2.4.7)\n",
            "Requirement already satisfied: kiwisolver>=1.0.1 in /usr/local/lib/python3.6/dist-packages (from matplotlib>=1.5.1->pycbc) (1.2.0)\n",
            "Requirement already satisfied: cryptography>=2.8 in /usr/local/lib/python3.6/dist-packages (from pyOpenSSL->lscsoft-glue>=1.59.3->pycbc) (2.9.2)\n",
            "Requirement already satisfied: cffi!=1.11.3,>=1.8 in /usr/local/lib/python3.6/dist-packages (from cryptography>=2.8->pyOpenSSL->lscsoft-glue>=1.59.3->pycbc) (1.14.0)\n",
            "Requirement already satisfied: pycparser in /usr/local/lib/python3.6/dist-packages (from cffi!=1.11.3,>=1.8->cryptography>=2.8->pyOpenSSL->lscsoft-glue>=1.59.3->pycbc) (2.20)\n"
          ],
          "name": "stdout"
        }
      ]
    },
    {
      "cell_type": "code",
      "metadata": {
        "id": "O9NryqKu3tjL",
        "colab_type": "code",
        "outputId": "ea672381-4f28-47e6-dbfd-fb5c54b1fe81",
        "colab": {
          "base_uri": "https://localhost:8080/",
          "height": 403
        }
      },
      "source": [
        "!pip install gwpy lalsuite"
      ],
      "execution_count": 0,
      "outputs": [
        {
          "output_type": "stream",
          "text": [
            "Requirement already satisfied: gwpy in /usr/local/lib/python3.6/dist-packages (1.0.1)\n",
            "Requirement already satisfied: lalsuite in /usr/local/lib/python3.6/dist-packages (6.70)\n",
            "Requirement already satisfied: astropy>=1.3.0; python_version >= \"3.5\" in /usr/local/lib/python3.6/dist-packages (from gwpy) (4.0.1.post1)\n",
            "Requirement already satisfied: h5py>=1.3 in /usr/local/lib/python3.6/dist-packages (from gwpy) (2.10.0)\n",
            "Requirement already satisfied: ligo-segments>=1.0.0 in /usr/local/lib/python3.6/dist-packages (from gwpy) (1.2.0)\n",
            "Requirement already satisfied: six>=1.5 in /usr/local/lib/python3.6/dist-packages (from gwpy) (1.12.0)\n",
            "Requirement already satisfied: gwosc>=0.4.0 in /usr/local/lib/python3.6/dist-packages (from gwpy) (0.5.3)\n",
            "Requirement already satisfied: gwdatafind in /usr/local/lib/python3.6/dist-packages (from gwpy) (1.0.4)\n",
            "Requirement already satisfied: matplotlib!=2.1.0,!=2.1.1,>=1.2.0 in /usr/local/lib/python3.6/dist-packages (from gwpy) (3.2.1)\n",
            "Requirement already satisfied: dqsegdb2 in /usr/local/lib/python3.6/dist-packages (from gwpy) (1.0.1)\n",
            "Requirement already satisfied: ligotimegps>=1.2.1 in /usr/local/lib/python3.6/dist-packages (from gwpy) (2.0.1)\n",
            "Requirement already satisfied: tqdm>=4.10.0 in /usr/local/lib/python3.6/dist-packages (from gwpy) (4.41.1)\n",
            "Requirement already satisfied: scipy>=0.12.1 in /usr/local/lib/python3.6/dist-packages (from gwpy) (1.4.1)\n",
            "Requirement already satisfied: python-dateutil in /usr/local/lib/python3.6/dist-packages (from gwpy) (2.8.1)\n",
            "Requirement already satisfied: numpy>=1.7.1 in /usr/local/lib/python3.6/dist-packages (from gwpy) (1.18.4)\n",
            "Requirement already satisfied: lscsoft-glue in /usr/local/lib/python3.6/dist-packages (from lalsuite) (2.0.0)\n",
            "Requirement already satisfied: pyOpenSSL in /usr/local/lib/python3.6/dist-packages (from gwdatafind->gwpy) (19.1.0)\n",
            "Requirement already satisfied: cycler>=0.10 in /usr/local/lib/python3.6/dist-packages (from matplotlib!=2.1.0,!=2.1.1,>=1.2.0->gwpy) (0.10.0)\n",
            "Requirement already satisfied: kiwisolver>=1.0.1 in /usr/local/lib/python3.6/dist-packages (from matplotlib!=2.1.0,!=2.1.1,>=1.2.0->gwpy) (1.2.0)\n",
            "Requirement already satisfied: pyparsing!=2.0.4,!=2.1.2,!=2.1.6,>=2.0.1 in /usr/local/lib/python3.6/dist-packages (from matplotlib!=2.1.0,!=2.1.1,>=1.2.0->gwpy) (2.4.7)\n",
            "Requirement already satisfied: cryptography>=2.8 in /usr/local/lib/python3.6/dist-packages (from pyOpenSSL->gwdatafind->gwpy) (2.9.2)\n",
            "Requirement already satisfied: cffi!=1.11.3,>=1.8 in /usr/local/lib/python3.6/dist-packages (from cryptography>=2.8->pyOpenSSL->gwdatafind->gwpy) (1.14.0)\n",
            "Requirement already satisfied: pycparser in /usr/local/lib/python3.6/dist-packages (from cffi!=1.11.3,>=1.8->cryptography>=2.8->pyOpenSSL->gwdatafind->gwpy) (2.20)\n"
          ],
          "name": "stdout"
        }
      ]
    },
    {
      "cell_type": "code",
      "metadata": {
        "id": "aG8LlrV63zRU",
        "colab_type": "code",
        "colab": {}
      },
      "source": [
        "from google.colab import drive"
      ],
      "execution_count": 0,
      "outputs": []
    },
    {
      "cell_type": "code",
      "metadata": {
        "id": "tneXkoZD3z20",
        "colab_type": "code",
        "outputId": "3ca00fd8-a48f-45e4-d432-2777b9485ae8",
        "colab": {
          "base_uri": "https://localhost:8080/",
          "height": 33
        }
      },
      "source": [
        "drive.mount('/content/gdrive')"
      ],
      "execution_count": 0,
      "outputs": [
        {
          "output_type": "stream",
          "text": [
            "Drive already mounted at /content/gdrive; to attempt to forcibly remount, call drive.mount(\"/content/gdrive\", force_remount=True).\n"
          ],
          "name": "stdout"
        }
      ]
    },
    {
      "cell_type": "code",
      "metadata": {
        "id": "6DaSJhUt4Huw",
        "colab_type": "code",
        "outputId": "62ec8eeb-ec7c-4f46-97c8-ed2168dbb7e8",
        "colab": {
          "base_uri": "https://localhost:8080/",
          "height": 252
        }
      },
      "source": [
        "!pip install PyDrive"
      ],
      "execution_count": 0,
      "outputs": [
        {
          "output_type": "stream",
          "text": [
            "Requirement already satisfied: PyDrive in /usr/local/lib/python3.6/dist-packages (1.3.1)\n",
            "Requirement already satisfied: PyYAML>=3.0 in /usr/local/lib/python3.6/dist-packages (from PyDrive) (3.13)\n",
            "Requirement already satisfied: google-api-python-client>=1.2 in /usr/local/lib/python3.6/dist-packages (from PyDrive) (1.7.12)\n",
            "Requirement already satisfied: oauth2client>=4.0.0 in /usr/local/lib/python3.6/dist-packages (from PyDrive) (4.1.3)\n",
            "Requirement already satisfied: httplib2<1dev,>=0.17.0 in /usr/local/lib/python3.6/dist-packages (from google-api-python-client>=1.2->PyDrive) (0.17.3)\n",
            "Requirement already satisfied: uritemplate<4dev,>=3.0.0 in /usr/local/lib/python3.6/dist-packages (from google-api-python-client>=1.2->PyDrive) (3.0.1)\n",
            "Requirement already satisfied: six<2dev,>=1.6.1 in /usr/local/lib/python3.6/dist-packages (from google-api-python-client>=1.2->PyDrive) (1.12.0)\n",
            "Requirement already satisfied: google-auth-httplib2>=0.0.3 in /usr/local/lib/python3.6/dist-packages (from google-api-python-client>=1.2->PyDrive) (0.0.3)\n",
            "Requirement already satisfied: google-auth>=1.4.1 in /usr/local/lib/python3.6/dist-packages (from google-api-python-client>=1.2->PyDrive) (1.7.2)\n",
            "Requirement already satisfied: pyasn1-modules>=0.0.5 in /usr/local/lib/python3.6/dist-packages (from oauth2client>=4.0.0->PyDrive) (0.2.8)\n",
            "Requirement already satisfied: rsa>=3.1.4 in /usr/local/lib/python3.6/dist-packages (from oauth2client>=4.0.0->PyDrive) (4.0)\n",
            "Requirement already satisfied: pyasn1>=0.1.7 in /usr/local/lib/python3.6/dist-packages (from oauth2client>=4.0.0->PyDrive) (0.4.8)\n",
            "Requirement already satisfied: setuptools>=40.3.0 in /usr/local/lib/python3.6/dist-packages (from google-auth>=1.4.1->google-api-python-client>=1.2->PyDrive) (46.3.0)\n",
            "Requirement already satisfied: cachetools<3.2,>=2.0.0 in /usr/local/lib/python3.6/dist-packages (from google-auth>=1.4.1->google-api-python-client>=1.2->PyDrive) (3.1.1)\n"
          ],
          "name": "stdout"
        }
      ]
    },
    {
      "cell_type": "code",
      "metadata": {
        "id": "sshJcABq4egG",
        "colab_type": "code",
        "colab": {}
      },
      "source": [
        "from pydrive.auth import GoogleAuth\n",
        "from pydrive.drive import GoogleDrive\n",
        "from google.colab import auth\n",
        "from oauth2client.client import GoogleCredentials"
      ],
      "execution_count": 0,
      "outputs": []
    },
    {
      "cell_type": "code",
      "metadata": {
        "id": "BK-K7zp84hqF",
        "colab_type": "code",
        "colab": {}
      },
      "source": [
        "auth.authenticate_user()\n",
        "gauth = GoogleAuth()\n",
        "gauth.credentials = GoogleCredentials.get_application_default()\n",
        "drive = GoogleDrive(gauth)"
      ],
      "execution_count": 0,
      "outputs": []
    },
    {
      "cell_type": "code",
      "metadata": {
        "id": "Gyw2M4eG4kdK",
        "colab_type": "code",
        "colab": {}
      },
      "source": [
        "downloaded = drive.CreateFile({'id':\"1681WuONd9kH1x0TucOEW-zCiVb18DeSH\"})   # replace the id with id of file you want to access\n",
        "downloaded.GetContentFile('challenge3.gwf')   "
      ],
      "execution_count": 0,
      "outputs": []
    },
    {
      "cell_type": "code",
      "metadata": {
        "id": "A_sq7ix-63lJ",
        "colab_type": "code",
        "colab": {}
      },
      "source": [
        "from gwpy.timeseries import TimeSeries\n",
        "data1= TimeSeries.read('challenge3.gwf', 'H1:CHALLENGE3')\n",
        "data2=TimeSeries.read('challenge3.gwf', 'L1:CHALLENGE3')"
      ],
      "execution_count": 0,
      "outputs": []
    },
    {
      "cell_type": "code",
      "metadata": {
        "id": "OXUdKlSY7-MQ",
        "colab_type": "code",
        "colab": {}
      },
      "source": [
        "import numpy as np\n",
        "signal1=np.array(data1)\n",
        "signal2=np.array(data2)"
      ],
      "execution_count": 0,
      "outputs": []
    },
    {
      "cell_type": "code",
      "metadata": {
        "id": "G2kWX8xu8NuM",
        "colab_type": "code",
        "outputId": "c82ba15a-d0b5-4279-c9f9-697b7a021de5",
        "colab": {
          "base_uri": "https://localhost:8080/",
          "height": 592
        }
      },
      "source": [
        "import matplotlib.pyplot as plt\n",
        "\n",
        "plt.plot(signal1)\n",
        "plt.show()\n",
        "plt.plot(signal2)\n",
        "plt.show()"
      ],
      "execution_count": 0,
      "outputs": [
        {
          "output_type": "display_data",
          "data": {
            "image/png": "[encoded data removed]",
            "text/plain": [
              "<Figure size 432x288 with 1 Axes>"
            ]
          },
          "metadata": {
            "tags": [],
            "needs_background": "light"
          }
        },
        {
          "output_type": "display_data",
          "data": {
            "image/png": "[encoded data removed]",
            "text/plain": [
              "<Figure size 432x288 with 1 Axes>"
            ]
          },
          "metadata": {
            "tags": [],
            "needs_background": "light"
          }
        }
      ]
    },
    {
      "cell_type": "code",
      "metadata": {
        "id": "v6CC1xeF8Tqj",
        "colab_type": "code",
        "outputId": "6dbdceef-cd93-4cbf-8371-2bf9e8b36643",
        "colab": {
          "base_uri": "https://localhost:8080/",
          "height": 590
        }
      },
      "source": [
        "from pycbc.filter import resample_to_delta_t, highpass\n",
        "from pycbc.types import TimeSeries\n",
        "import pylab\n",
        "gw_timeseries1 = TimeSeries(signal1, delta_t=1/4096, epoch=0)\n",
        "\n",
        "\n",
        "# Remove the low frequency content and downsample the data to 2048Hz\n",
        "gw_timeseries1 = resample_to_delta_t(highpass(gw_timeseries1, 15.0), 1.0/2048)\n",
        "\n",
        "pylab.plot(gw_timeseries1.sample_times, gw_timeseries1)\n",
        "pylab.xlabel('Time (s)')\n",
        "pylab.show()\n",
        "gw_timeseries2 = TimeSeries(signal2, delta_t=1/4096, epoch=0)\n",
        "\n",
        "\n",
        "# Remove the low frequency content and downsample the data to 2048Hz\n",
        "gw_timeseries2 = resample_to_delta_t(highpass(gw_timeseries2, 15.0), 1.0/2048)\n",
        "\n",
        "pylab.plot(gw_timeseries2.sample_times, gw_timeseries2)\n",
        "pylab.xlabel('Time (s)')\n",
        "pylab.show()"
      ],
      "execution_count": 0,
      "outputs": [
        {
          "output_type": "display_data",
          "data": {
            "image/png": "[encoded data removed]",
            "text/plain": [
              "<Figure size 432x288 with 1 Axes>"
            ]
          },
          "metadata": {
            "tags": [],
            "needs_background": "light"
          }
        },
        {
          "output_type": "display_data",
          "data": {
            "image/png": "[encoded data removed]",
            "text/plain": [
              "<Figure size 432x288 with 1 Axes>"
            ]
          },
          "metadata": {
            "tags": [],
            "needs_background": "light"
          }
        }
      ]
    },
    {
      "cell_type": "code",
      "metadata": {
        "id": "CfnYpshM9m6T",
        "colab_type": "code",
        "outputId": "d0863fc4-30e8-4d53-e747-90c1df3405e5",
        "colab": {
          "base_uri": "https://localhost:8080/",
          "height": 590
        }
      },
      "source": [
        "strain1=gw_timeseries1\n",
        "conditioned1 = strain1.crop(2, 2)\n",
        "\n",
        "pylab.plot(conditioned1.sample_times, conditioned1)\n",
        "pylab.xlabel('Time (s)')\n",
        "pylab.show()\n",
        "strain2=gw_timeseries2\n",
        "conditioned2 = strain2.crop(2, 2)\n",
        "\n",
        "pylab.plot(conditioned2.sample_times, conditioned2)\n",
        "pylab.xlabel('Time (s)')\n",
        "pylab.show()"
      ],
      "execution_count": 0,
      "outputs": [
        {
          "output_type": "display_data",
          "data": {
            "image/png": "[encoded data removed]",
            "text/plain": [
              "<Figure size 432x288 with 1 Axes>"
            ]
          },
          "metadata": {
            "tags": [],
            "needs_background": "light"
          }
        },
        {
          "output_type": "display_data",
          "data": {
            "image/png": "[encoded data removed]",
            "text/plain": [
              "<Figure size 432x288 with 1 Axes>"
            ]
          },
          "metadata": {
            "tags": [],
            "needs_background": "light"
          }
        }
      ]
    },
    {
      "cell_type": "code",
      "metadata": {
        "id": "qgeF23j0-UnN",
        "colab_type": "code",
        "colab": {}
      },
      "source": [
        "from pycbc.psd import interpolate, inverse_spectrum_truncation\n",
        "# Estimate the power spectral density\n",
        "\n",
        "# We use 4 second samles of our time series in Welch method.\n",
        "psd1 = conditioned1.psd(4)\n",
        "\n",
        "# Now that we have the psd we need to interpolate it to match our data\n",
        "# and then limit the filter length of 1 / PSD. After this, we can\n",
        "# directly use this PSD to filter the data in a controlled manner\n",
        "\n",
        "psd1 = interpolate(psd1, conditioned1.delta_f)\n",
        "\n",
        "# 1/PSD will now act as a filter with an effective length of 4 seconds\n",
        "# Since the data has been highpassed above 15 Hz, and will have low values\n",
        "# below this we need to informat the function to not include frequencies\n",
        "# below this frequency. \n",
        "psd1 = inverse_spectrum_truncation(psd1, 4 * conditioned1.sample_rate,\n",
        "                                  low_frequency_cutoff=20)\n",
        "# We use 4 second samles of our time series in Welch method.\n",
        "psd2 = conditioned2.psd(4)\n",
        "\n",
        "# Now that we have the psd we need to interpolate it to match our data\n",
        "# and then limit the filter length of 1 / PSD. After this, we can\n",
        "# directly use this PSD to filter the data in a controlled manner\n",
        "\n",
        "psd2 = interpolate(psd2, conditioned2.delta_f)\n",
        "\n",
        "# 1/PSD will now act as a filter with an effective length of 4 seconds\n",
        "# Since the data has been highpassed above 15 Hz, and will have low values\n",
        "# below this we need to informat the function to not include frequencies\n",
        "# below this frequency. \n",
        "psd2 = inverse_spectrum_truncation(psd2, 4 * conditioned2.sample_rate,\n",
        "                                  low_frequency_cutoff=20)"
      ],
      "execution_count": 0,
      "outputs": []
    },
    {
      "cell_type": "code",
      "metadata": {
        "id": "Wly4qB5Y_Sj0",
        "colab_type": "code",
        "outputId": "bbc997fc-92ee-41a8-8636-106011f966de",
        "colab": {
          "base_uri": "https://localhost:8080/",
          "height": 593
        }
      },
      "source": [
        "x=10\n",
        "from pycbc.waveform import get_td_waveform\n",
        "hp1, hc1 = get_td_waveform(approximant=\"SEOBNRv4_opt\",\n",
        "                     mass1=x,\n",
        "                     mass2=x,\n",
        "                     delta_t=conditioned1.delta_t,\n",
        "                     f_lower=20)\n",
        "\n",
        "# We will resize the vector to match our data\n",
        "hp1.resize(len(conditioned1))\n",
        "\n",
        "# The waveform begins at the start of the vector, so if we want the\n",
        "# SNR time series to correspond to the approximate merger location\n",
        "# we need to shift the data so that the merger is approximately at the \n",
        "# first bin of the data.\n",
        "\n",
        "# This function rotates the vector by a fixed amount of time.\n",
        "# It treats the data as if it were on a ring. Note that\n",
        "# time stamps are *not* in general affected, but the true\n",
        "# position in the vector is.\n",
        "#\n",
        "# By convention waveforms returned from `get_td_waveform` have their\n",
        "# merger stamped with time zero, so we can use the start time to \n",
        "# shift the merger into position\n",
        "template1 = hp1.cyclic_time_shift(hp.start_time)\n",
        "pylab.plot(template1)\n",
        "pylab.show()\n",
        "hp2, hc2 = get_td_waveform(approximant=\"SEOBNRv4_opt\",\n",
        "                     mass1=x,\n",
        "                     mass2=x,\n",
        "                     delta_t=conditioned2.delta_t,\n",
        "                     f_lower=20)\n",
        "\n",
        "# We will resize the vector to match our data\n",
        "hp2.resize(len(conditioned2))\n",
        "\n",
        "# The waveform begins at the start of the vector, so if we want the\n",
        "# SNR time series to correspond to the approximate merger location\n",
        "# we need to shift the data so that the merger is approximately at the \n",
        "# first bin of the data.\n",
        "\n",
        "# This function rotates the vector by a fixed amount of time.\n",
        "# It treats the data as if it were on a ring. Note that\n",
        "# time stamps are *not* in general affected, but the true\n",
        "# position in the vector is.\n",
        "#\n",
        "# By convention waveforms returned from `get_td_waveform` have their\n",
        "# merger stamped with time zero, so we can use the start time to \n",
        "# shift the merger into position\n",
        "template2 = hp.cyclic_time_shift(hp.start_time)\n",
        "pylab.plot(template2)\n",
        "pylab.show()"
      ],
      "execution_count": 0,
      "outputs": [
        {
          "output_type": "display_data",
          "data": {
            "image/png": "[encoded data removed]",
            "text/plain": [
              "<Figure size 432x288 with 1 Axes>"
            ]
          },
          "metadata": {
            "tags": [],
            "needs_background": "light"
          }
        },
        {
          "output_type": "display_data",
          "data": {
            "image/png": "[encoded data removed]",
            "text/plain": [
              "<Figure size 432x288 with 1 Axes>"
            ]
          },
          "metadata": {
            "tags": [],
            "needs_background": "light"
          }
        }
      ]
    },
    {
      "cell_type": "code",
      "metadata": {
        "id": "BBC4N_B4_yYC",
        "colab_type": "code",
        "outputId": "06023796-7139-4a44-c6ff-a6d80f388234",
        "colab": {
          "base_uri": "https://localhost:8080/",
          "height": 1000
        }
      },
      "source": [
        "massac=[]\n",
        "import tensorflow as tf\n",
        "\n",
        "for x in range(10,51):\n",
        "  print(x)\n",
        "  from pycbc.waveform import get_td_waveform\n",
        "  hp1, hc1 = get_td_waveform(approximant=\"SEOBNRv4_opt\",\n",
        "                      mass1=x,\n",
        "                      mass2=x,\n",
        "                      delta_t=conditioned1.delta_t,\n",
        "                      f_lower=20)\n",
        "\n",
        "  # We will resize the vector to match our data\n",
        "  hp1.resize(len(conditioned1))\n",
        "  template1 = hp1.cyclic_time_shift(hp1.start_time)\n",
        "  from pycbc.filter import matched_filter\n",
        "  import numpy\n",
        "\n",
        "  snr1 = matched_filter(template1, conditioned1,\n",
        "                      psd=psd1, low_frequency_cutoff=20)\n",
        "\n",
        "\n",
        "  snr1 = snr1.crop(4 + 4, 4)\n",
        "\n",
        "\n",
        "  peak1 = abs(snr1).numpy().argmax()\n",
        "  snrp1 = snr1[peak1]\n",
        "  time1 = snr1.sample_times[peak1]\n",
        "\n",
        "  print(\"We found a apparant signal at {}s with SNR {} in H1\".format(time1, \n",
        "                                                      abs(snrp1)))\n",
        "  hp2, hc2 = get_td_waveform(approximant=\"SEOBNRv4_opt\",\n",
        "                      mass1=x,\n",
        "                      mass2=x,\n",
        "                      delta_t=conditioned2.delta_t,\n",
        "                      f_lower=20)\n",
        "\n",
        "  # We will resize the vector to match our data\n",
        "  hp2.resize(len(conditioned2))\n",
        "  template2 = hp2.cyclic_time_shift(hp2.start_time)\n",
        "\n",
        "  snr2 = matched_filter(template2, conditioned2,\n",
        "                      psd=psd2, low_frequency_cutoff=20)\n",
        "\n",
        "\n",
        "  snr2 = snr2.crop(4 + 4, 4)\n",
        "\n",
        "  peak2 = abs(snr2).numpy().argmax()\n",
        "  snrp2 = snr2[peak2]\n",
        "  time2 = snr2.sample_times[peak2]\n",
        "\n",
        "  print(\"We found a apparent signal at {}s with SNR {} in L1\".format(time2, \n",
        "                                                      abs(snrp2)))\n",
        "  if time1==time2:\n",
        "    print(\"Peak Time match ____________________________________________________________________________________________________________________________________________________________________________________________________________--Peak Time Match\")\n",
        "    from pycbc.filter import sigma\n",
        "    dt1 = time1 - conditioned1.start_time\n",
        "    aligned1 = template1.cyclic_time_shift(dt1)\n",
        "\n",
        "    # scale the template so that it would have SNR 1 in this data\n",
        "    aligned1 /= sigma(aligned1, psd=psd1, low_frequency_cutoff=20.0)\n",
        "\n",
        "    # Scale the template amplitude and phase to the peak value\n",
        "    aligned1 = (aligned1.to_frequencyseries() * snrp1).to_timeseries()\n",
        "    aligned1.start_time = conditioned1.start_time\n",
        "    # We do it this way so that we can whiten both the template and the data\n",
        "    white_data1 = (conditioned1.to_frequencyseries() / psd1**0.5).to_timeseries()\n",
        "\n",
        "    # apply a smoothing of the turnon of the template to avoid a transient\n",
        "    # from the sharp turn on in the waveform.\n",
        "    tapered1 = aligned1.highpass_fir(30, 512, remove_corrupted=False)\n",
        "    white_template1 = (tapered1.to_frequencyseries() / psd1**0.5).to_timeseries()\n",
        "\n",
        "    white_data1 = white_data1.highpass_fir(30., 512).lowpass_fir(300, 512)\n",
        "    white_template1 = white_template1.highpass_fir(30, 512).lowpass_fir(300, 512)\n",
        "\n",
        "    # Select the time around the merger\n",
        "    white_data1 = white_data1.time_slice(time1-0.2, time1+.10)\n",
        "    white_template1 = white_template1.time_slice(time1-0.2, time1+.10)\n",
        "    dt2 = time2 - conditioned2.start_time\n",
        "    aligned2 = template2.cyclic_time_shift(dt2)\n",
        "\n",
        "    # scale the template so that it would have SNR 1 in this data\n",
        "    aligned2 /= sigma(aligned2, psd=psd2, low_frequency_cutoff=20.0)\n",
        "\n",
        "    # Scale the template amplitude and phase to the peak value\n",
        "    aligned2 = (aligned2.to_frequencyseries() * snrp2).to_timeseries()\n",
        "    aligned2.start_time = conditioned2.start_time\n",
        "    # We do it this way so that we can whiten both the template and the data\n",
        "    white_data2 = (conditioned2.to_frequencyseries() / psd2**0.5).to_timeseries()\n",
        "\n",
        "    # apply a smoothing of the turnon of the template to avoid a transient\n",
        "    # from the sharp turn on in the waveform.\n",
        "    tapered2 = aligned2.highpass_fir(30, 512, remove_corrupted=False)\n",
        "    white_template2 = (tapered2.to_frequencyseries() / psd2**0.5).to_timeseries()\n",
        "\n",
        "    white_data2 = white_data2.highpass_fir(30., 512).lowpass_fir(300, 512)\n",
        "    white_template2 = white_template2.highpass_fir(30, 512).lowpass_fir(300, 512)\n",
        "\n",
        "    # Select the time around the merger\n",
        "    white_data2 = white_data2.time_slice(time2-0.2, time2+.10)\n",
        "    white_template2 = white_template2.time_slice(time2-0.2, time2+.10)\n",
        "    print('and mean abs error='+str(tf.keras.metrics.mean_absolute_error(white_data1,white_template1).numpy())+','+str(tf.keras.metrics.mean_absolute_error(white_data2,white_template2).numpy()))\n",
        "\n",
        "    massac.append(x)"
      ],
      "execution_count": 0,
      "outputs": [
        {
          "output_type": "stream",
          "text": [
            "10\n",
            "We found a apparant signal at 2483.96728515625s with SNR 28.875743646459355 in H1\n",
            "We found a apparent signal at 2483.96728515625s with SNR 33.52902527302097 in L1\n",
            "Peak Time match ____________________________________________________________________________________________________________________________________________________________________________________________________________--Peak Time Match\n",
            "and mean abs error=12.176302002655058,13.527049007366733\n",
            "11\n",
            "We found a apparant signal at 1204.712890625s with SNR 12.31173411852727 in H1\n",
            "We found a apparent signal at 2483.953125s with SNR 10.824054606427413 in L1\n",
            "12\n",
            "We found a apparant signal at 1204.7119140625s with SNR 13.677365315411699 in H1\n",
            "We found a apparent signal at 1204.71728515625s with SNR 12.513576969957578 in L1\n",
            "13\n",
            "We found a apparant signal at 1204.71240234375s with SNR 16.384654320240685 in H1\n",
            "We found a apparent signal at 1204.7119140625s with SNR 13.22492729195864 in L1\n",
            "14\n",
            "We found a apparant signal at 1638.158203125s with SNR 16.6529530052727 in H1\n",
            "We found a apparent signal at 1638.16650390625s with SNR 15.668995628111565 in L1\n",
            "15\n",
            "We found a apparant signal at 1638.158203125s with SNR 18.624485024528145 in H1\n",
            "We found a apparent signal at 1638.15771484375s with SNR 17.82951069852001 in L1\n",
            "16\n",
            "We found a apparant signal at 1638.15771484375s with SNR 26.034111176527656 in H1\n",
            "We found a apparent signal at 1638.15771484375s with SNR 22.5295925172348 in L1\n",
            "Peak Time match ____________________________________________________________________________________________________________________________________________________________________________________________________________--Peak Time Match\n",
            "and mean abs error=23.767170883419734,29.32065534985336\n",
            "17\n",
            "We found a apparant signal at 1638.15673828125s with SNR 38.14895791785351 in H1\n",
            "We found a apparent signal at 1638.15625s with SNR 43.22458642578912 in L1\n",
            "18\n",
            "We found a apparant signal at 1638.1552734375s with SNR 25.34865619191845 in H1\n",
            "We found a apparent signal at 1638.1552734375s with SNR 26.07863262477731 in L1\n",
            "Peak Time match ____________________________________________________________________________________________________________________________________________________________________________________________________________--Peak Time Match\n",
            "and mean abs error=23.942740584955114,25.038067337641124\n",
            "19\n",
            "We found a apparant signal at 1204.7099609375s with SNR 25.73222207622047 in H1\n",
            "We found a apparent signal at 1204.7099609375s with SNR 27.211625570593103 in L1\n",
            "Peak Time match ____________________________________________________________________________________________________________________________________________________________________________________________________________--Peak Time Match\n",
            "and mean abs error=34.849990821936885,41.78384869300172\n",
            "20\n",
            "We found a apparant signal at 1204.70947265625s with SNR 31.91500905363264 in H1\n",
            "We found a apparent signal at 1204.70947265625s with SNR 32.799776395501745 in L1\n",
            "Peak Time match ____________________________________________________________________________________________________________________________________________________________________________________________________________--Peak Time Match\n",
            "and mean abs error=29.005324325093934,36.94186278050515\n",
            "21\n",
            "We found a apparant signal at 1204.708984375s with SNR 37.794313362299526 in H1\n",
            "We found a apparent signal at 1204.70947265625s with SNR 40.78105128629792 in L1\n",
            "22\n",
            "We found a apparant signal at 1204.7080078125s with SNR 44.78578715082951 in H1\n",
            "We found a apparent signal at 1204.7080078125s with SNR 53.42868453490049 in L1\n",
            "Peak Time match ____________________________________________________________________________________________________________________________________________________________________________________________________________--Peak Time Match\n",
            "and mean abs error=13.577928197529028,11.777054541561464\n",
            "23\n",
            "We found a apparant signal at 1204.70703125s with SNR 38.275569105023 in H1\n",
            "We found a apparent signal at 1204.70703125s with SNR 43.68175084188113 in L1\n",
            "Peak Time match ____________________________________________________________________________________________________________________________________________________________________________________________________________--Peak Time Match\n",
            "and mean abs error=19.210039408166725,20.047439434996615\n",
            "24\n",
            "We found a apparant signal at 1204.70654296875s with SNR 33.94108955653498 in H1\n",
            "We found a apparent signal at 1204.70654296875s with SNR 36.19912127323532 in L1\n",
            "Peak Time match ____________________________________________________________________________________________________________________________________________________________________________________________________________--Peak Time Match\n",
            "and mean abs error=26.083978684431255,30.594606156224366\n",
            "25\n",
            "We found a apparant signal at 1204.70654296875s with SNR 31.418954712321327 in H1\n",
            "We found a apparent signal at 1204.7060546875s with SNR 33.91424494448707 in L1\n",
            "26\n",
            "We found a apparant signal at 1204.7060546875s with SNR 29.923843812882332 in H1\n",
            "We found a apparent signal at 1204.70556640625s with SNR 29.150240294962334 in L1\n",
            "27\n",
            "We found a apparant signal at 1204.70556640625s with SNR 28.39569921141555 in H1\n",
            "We found a apparent signal at 1204.70556640625s with SNR 28.431334167940083 in L1\n",
            "Peak Time match ____________________________________________________________________________________________________________________________________________________________________________________________________________--Peak Time Match\n",
            "and mean abs error=32.266607414410885,39.92187486699182\n",
            "28\n",
            "We found a apparant signal at 1204.70556640625s with SNR 27.752826710843074 in H1\n",
            "We found a apparent signal at 1204.705078125s with SNR 28.177705458357615 in L1\n",
            "29\n",
            "We found a apparant signal at 1204.705078125s with SNR 27.697709593790595 in H1\n",
            "We found a apparent signal at 1204.705078125s with SNR 27.681783845245675 in L1\n",
            "Peak Time match ____________________________________________________________________________________________________________________________________________________________________________________________________________--Peak Time Match\n",
            "and mean abs error=32.44913911155896,39.672085457607245\n",
            "30\n",
            "We found a apparant signal at 1204.70458984375s with SNR 27.257862728613983 in H1\n",
            "We found a apparent signal at 1204.70458984375s with SNR 27.553791891122913 in L1\n",
            "Peak Time match ____________________________________________________________________________________________________________________________________________________________________________________________________________--Peak Time Match\n",
            "and mean abs error=32.84012825568475,39.95028660570155\n",
            "31\n",
            "We found a apparant signal at 1204.70458984375s with SNR 27.213996381915063 in H1\n",
            "We found a apparent signal at 1204.70458984375s with SNR 28.31039481944115 in L1\n",
            "Peak Time match ____________________________________________________________________________________________________________________________________________________________________________________________________________--Peak Time Match\n",
            "and mean abs error=33.07131615231118,39.99736007896137\n",
            "32\n",
            "We found a apparant signal at 1204.7041015625s with SNR 27.144619050256857 in H1\n",
            "We found a apparent signal at 1204.7041015625s with SNR 29.046224634584927 in L1\n",
            "Peak Time match ____________________________________________________________________________________________________________________________________________________________________________________________________________--Peak Time Match\n",
            "and mean abs error=32.99287990220259,39.737585989367155\n",
            "33\n",
            "We found a apparant signal at 1204.70361328125s with SNR 27.047951496760458 in H1\n",
            "We found a apparent signal at 1204.70361328125s with SNR 28.683156010815843 in L1\n",
            "Peak Time match ____________________________________________________________________________________________________________________________________________________________________________________________________________--Peak Time Match\n",
            "and mean abs error=32.82907698375131,39.60102593455974\n",
            "34\n",
            "We found a apparant signal at 1204.70361328125s with SNR 26.781170182725045 in H1\n",
            "We found a apparent signal at 1204.703125s with SNR 28.02544624837702 in L1\n",
            "35\n",
            "We found a apparant signal at 1204.703125s with SNR 26.720151660249787 in H1\n",
            "We found a apparent signal at 1204.70263671875s with SNR 27.46418040872753 in L1\n",
            "36\n",
            "We found a apparant signal at 1204.70263671875s with SNR 26.824214414543487 in H1\n",
            "We found a apparent signal at 1204.70263671875s with SNR 27.240956364649414 in L1\n",
            "Peak Time match ____________________________________________________________________________________________________________________________________________________________________________________________________________--Peak Time Match\n",
            "and mean abs error=32.75403971070525,39.58233568207359\n",
            "37\n",
            "We found a apparant signal at 1204.7021484375s with SNR 26.50647241536978 in H1\n",
            "We found a apparent signal at 1204.7021484375s with SNR 27.681788096205086 in L1\n",
            "Peak Time match ____________________________________________________________________________________________________________________________________________________________________________________________________________--Peak Time Match\n",
            "and mean abs error=32.8668264131679,39.590043351258764\n",
            "38\n",
            "We found a apparant signal at 1204.7021484375s with SNR 26.653713083116997 in H1\n",
            "We found a apparent signal at 1204.70166015625s with SNR 27.824994357941037 in L1\n",
            "39\n",
            "We found a apparant signal at 1204.70166015625s with SNR 26.665852647628483 in H1\n",
            "We found a apparent signal at 1204.70166015625s with SNR 28.201403287703652 in L1\n",
            "Peak Time match ____________________________________________________________________________________________________________________________________________________________________________________________________________--Peak Time Match\n",
            "and mean abs error=33.053496238373036,39.721485319239164\n",
            "40\n",
            "We found a apparant signal at 1204.701171875s with SNR 26.565371824660524 in H1\n",
            "We found a apparent signal at 1204.701171875s with SNR 28.24853543912035 in L1\n",
            "Peak Time match ____________________________________________________________________________________________________________________________________________________________________________________________________________--Peak Time Match\n",
            "and mean abs error=33.01816760963943,39.66851361570194\n",
            "41\n",
            "We found a apparant signal at 1204.70068359375s with SNR 26.51327526623612 in H1\n",
            "We found a apparent signal at 1204.70068359375s with SNR 28.275636443674014 in L1\n",
            "Peak Time match ____________________________________________________________________________________________________________________________________________________________________________________________________________--Peak Time Match\n",
            "and mean abs error=33.059227964585894,39.57673403153151\n",
            "42\n",
            "We found a apparant signal at 1204.70068359375s with SNR 26.001325712951633 in H1\n",
            "We found a apparent signal at 1204.7001953125s with SNR 28.116399026774637 in L1\n",
            "43\n",
            "We found a apparant signal at 1204.7001953125s with SNR 25.859993113418227 in H1\n",
            "We found a apparent signal at 1204.69970703125s with SNR 27.954659595194215 in L1\n",
            "44\n",
            "We found a apparant signal at 1204.69970703125s with SNR 25.490965680645115 in H1\n",
            "We found a apparent signal at 1204.69921875s with SNR 27.713644223480866 in L1\n",
            "45\n",
            "We found a apparant signal at 1204.69921875s with SNR 25.437761623888125 in H1\n",
            "We found a apparent signal at 1204.69873046875s with SNR 27.844498443322486 in L1\n",
            "46\n",
            "We found a apparant signal at 1204.69873046875s with SNR 25.287395125520856 in H1\n",
            "We found a apparent signal at 1204.6982421875s with SNR 27.898045297273278 in L1\n",
            "47\n",
            "We found a apparant signal at 1204.6982421875s with SNR 25.001693066567782 in H1\n",
            "We found a apparent signal at 1204.69775390625s with SNR 27.749076637131896 in L1\n",
            "48\n",
            "We found a apparant signal at 1204.69775390625s with SNR 24.714096299918303 in H1\n",
            "We found a apparent signal at 1204.697265625s with SNR 27.94864385173184 in L1\n",
            "49\n",
            "We found a apparant signal at 1204.697265625s with SNR 24.2515422762428 in H1\n",
            "We found a apparent signal at 1204.697265625s with SNR 28.031762513492193 in L1\n",
            "Peak Time match ____________________________________________________________________________________________________________________________________________________________________________________________________________--Peak Time Match\n",
            "and mean abs error=34.009650746773374,39.55492564498706\n",
            "50\n",
            "We found a apparant signal at 1204.697265625s with SNR 24.466687027017784 in H1\n",
            "We found a apparent signal at 1204.69677734375s with SNR 28.26690479647023 in L1\n"
          ],
          "name": "stdout"
        }
      ]
    },
    {
      "cell_type": "code",
      "metadata": {
        "id": "dV5z8gFjslpG",
        "colab_type": "code",
        "colab": {}
      },
      "source": [
        ""
      ],
      "execution_count": 0,
      "outputs": []
    }
  ]
}
